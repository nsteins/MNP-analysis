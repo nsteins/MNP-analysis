{
 "cells": [
  {
   "cell_type": "markdown",
   "metadata": {},
   "source": [
    "# MNP 8-4\n",
    "\n",
    "Diameter: 13.3+/-5.5nm and 14+/-6nm\n",
    "Data in : 12-6-16/\n",
    "\n",
    "measured T1 from 5 samples: none showed polarization\n",
    "Also have spectra and g(2) from most samples\n",
    "did not see ODMR from these samples\n",
    "Data in 12-2-16/ and 12-6-16/\n",
    "see MNP 8-4 12-2-16"
   ]
  },
  {
   "cell_type": "markdown",
   "metadata": {},
   "source": [
    "# MNP 2\n",
    "\n",
    "Diameter: 6-8 nm\n",
    "Need to collect size data again\n",
    "\n",
    "Measured many T1 samples: lifetime 0-4us\n",
    "See MNP2 T1 lifetimes\n",
    "\n"
   ]
  },
  {
   "cell_type": "markdown",
   "metadata": {},
   "source": [
    "# MNP 4\n",
    "\n",
    "Diameter: 18-20nm need to collect size data again\n",
    "poor coverage\n",
    "hard to find samples\n",
    "\n",
    "T1:\n",
    "T2"
   ]
  },
  {
   "cell_type": "markdown",
   "metadata": {},
   "source": [
    "# MNP 5\n",
    "Diameter: ~15nm need to collect data\n"
   ]
  }
 ],
 "metadata": {
  "kernelspec": {
   "display_name": "Python 2",
   "language": "python",
   "name": "python2"
  },
  "language_info": {
   "codemirror_mode": {
    "name": "ipython",
    "version": 2
   },
   "file_extension": ".py",
   "mimetype": "text/x-python",
   "name": "python",
   "nbconvert_exporter": "python",
   "pygments_lexer": "ipython2",
   "version": "2.7.11"
  }
 },
 "nbformat": 4,
 "nbformat_minor": 0
}
