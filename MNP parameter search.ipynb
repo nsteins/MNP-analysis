{
 "cells": [
  {
   "cell_type": "code",
   "execution_count": 1,
   "metadata": {
    "collapsed": true
   },
   "outputs": [],
   "source": [
    "%matplotlib inline\n",
    "from pylab import rcParams\n",
    "rcParams['figure.figsize'] = 12, 8\n",
    "rcParams.update({'font.size':16})\n",
    "\n",
    "\n",
    "import numpy as np\n",
    "from ipywidgets import widgets\n",
    "import matplotlib.pyplot as plt\n",
    "\n",
    "from mpmath import mp\n",
    "mp.dps = 50"
   ]
  },
  {
   "cell_type": "code",
   "execution_count": 16,
   "metadata": {
    "collapsed": true
   },
   "outputs": [],
   "source": [
    "\n",
    "def spec(f,k,V,t):\n",
    "    t_n = t*mp.exp(k*V/(mp.mpf(4.04*10**-21)))\n",
    "    return mp.mpf((2 * t_n)/(mp.pi*(1+mp.power(2,t_n*f))))\n",
    "\n",
    "def F1(f,b,T2):\n",
    "    w_p = mp.mpf(2.865E9 + 28E6*b)\n",
    "    w_n = mp.mpf(2.865E9 - 28E6*b)\n",
    "    k = mp.mpf(1/T2)\n",
    "    return mp.mpf((1/mp.pi)*( k/(k**2 + mp.power(f-w_p,2)) + k/(k**2 + mp.power(f-w_n,2))))\n",
    "\n",
    "def F2(f,tau):\n",
    "    return (1/(4*mp.pi**2)) * (2/tau) * mp.sin(2*mp.pi*tau*f/4.)**4 / (f/4.)**2\n",
    "\n",
    "def T1_pred(b,r,b_v,k,t):\n",
    "   \n",
    "    V =  mp.mpf(4/3.0*np.pi*(r*1E-9)**3)\n",
    "    w_p = mp.mpf(2.865E9 + 28E6*b)\n",
    "    w_n = mp.mpf(2.865E9 - 28E6*b)\n",
    "    i = lambda f: F1(f,b,T2)*spec(f,k,V,t)\n",
    "    S = mp.quad(i,[1E8,w_n-1E8,w_n+1E8,w_p-1E8,w_p+1E8,1E10])\n",
    "    G_ext = mp.mpf(28E6**2*b_v**2*S)\n",
    "    return mp.mpf(1/(1/T1+G_ext))\n",
    "\n",
    "def T2_pred(tau,r,b_v,k,t):\n",
    "    V =  mp.mpf(4/3.0*np.pi*(r*1E-9)**3)\n",
    "    i = lambda f: F2(f,tau*2)*spec(f,k,V,t)\n",
    "    S = mp.quad(i,[1E4,1/tau-1E6,1/tau+1E6,1E8])\n",
    "    G_ext = mp.mpf(28E6**2*b_v**2*S)\n",
    "    return mp.mpf(1/(1/T2+G_ext))\n"
   ]
  },
  {
   "cell_type": "code",
   "execution_count": 11,
   "metadata": {
    "collapsed": true
   },
   "outputs": [],
   "source": [
    "def pred_time(T_pred,g):    \n",
    "    return 1 / np.sum( g/np.sum(g)*(1/np.array(T_pred)) )\n",
    "\n",
    "def gaussian(X,mu,sigma):\n",
    "    return np.exp( -(X-mu)**2/(2*sigma**2) )"
   ]
  },
  {
   "cell_type": "code",
   "execution_count": 4,
   "metadata": {
    "collapsed": true
   },
   "outputs": [],
   "source": [
    "MNP2_T1 = np.array([1460,386,4012,195,525,2770,1258,1075,324,483,1795,15735,537,339,1319,2247,4462,2217,751,678])*1E-9\n",
    "MNP11_T1 = np.array([21261,8448,35817,3809,6106,582])*1E-9\n",
    "MNP5_T1 = np.array([6199,959,5998,5619])*1E-9\n",
    "MNP12_T1 = np.array([27245,3128,4254,11391,14723,12519,42427,16878,47553,25542,39281])*1E-9\n",
    "bare_T1 = np.array([292853,319588,100662,31148,54657,46828,99135,229618])*1E-9\n",
    "\n",
    "MNP2_T2 = np.array([256,829])*1E-9\n",
    "MNP4_T2 = np.array([926,1226,961,939,729,567,2194,433,1136])*1E-9\n",
    "MNP5_T2 = np.array([124,654])*1E-9\n",
    "MNP12_T2 = np.array([471,597,670])*1E-9\n",
    "bare_T2 = 2074E-9"
   ]
  },
  {
   "cell_type": "code",
   "execution_count": 12,
   "metadata": {
    "collapsed": true
   },
   "outputs": [],
   "source": [
    "T1_size = [ [5.6,1.9], [19,4.5], [21,3.7], [2.53,0.76]]\n",
    "T2_size = [ [5.6,1.9], [19,4.5], [2.53,0.76]]"
   ]
  },
  {
   "cell_type": "code",
   "execution_count": 13,
   "metadata": {
    "collapsed": false
   },
   "outputs": [],
   "source": [
    "T1s = list(np.log10(np.mean(T)) for T in [MNP2_T1,MNP5_T1,MNP11_T1,MNP12_T1])\n",
    "T2s = list(np.log10(np.mean(T)) for T in [MNP2_T2,MNP5_T2,MNP12_T1])"
   ]
  },
  {
   "cell_type": "code",
   "execution_count": null,
   "metadata": {
    "collapsed": false
   },
   "outputs": [],
   "source": [
    "b_v = 2.8\n",
    "R = np.arange(1,15,0.1)\n",
    "\n",
    "T1 = np.mean(bare_T1)\n",
    "T2 = np.mean(bare_T2)\n",
    "\n",
    "k = np.linspace(1E4,5E4,30)\n",
    "t = np.linspace(-12,-8,30)\n",
    "\n",
    "tl1 = np.zeros((30,30,R.shape[0]))\n",
    "tl2 = np.zeros((30,30,R.shape[0]))\n",
    "\n",
    "for i,K in enumerate(k):\n",
    "    for j,T in enumerate(t):\n",
    "        \n",
    "        T1_0 = list( T1_pred(0,r,b_v*(r/3),K,T) for r in np.nditer(R))\n",
    "        T2_0 = list( T2_pred(5E-7,r,b_v*(r/3),K,T) for r in np.nditer(R))\n",
    "        tl1[i,j,:] = T1_0\n",
    "        tl2[i,j,:] = T2_0"
   ]
  },
  {
   "cell_type": "code",
   "execution_count": null,
   "metadata": {
    "collapsed": true
   },
   "outputs": [],
   "source": []
  }
 ],
 "metadata": {
  "kernelspec": {
   "display_name": "Python 2",
   "language": "python",
   "name": "python2"
  },
  "language_info": {
   "codemirror_mode": {
    "name": "ipython",
    "version": 2
   },
   "file_extension": ".py",
   "mimetype": "text/x-python",
   "name": "python",
   "nbconvert_exporter": "python",
   "pygments_lexer": "ipython2",
   "version": "2.7.11"
  }
 },
 "nbformat": 4,
 "nbformat_minor": 0
}
