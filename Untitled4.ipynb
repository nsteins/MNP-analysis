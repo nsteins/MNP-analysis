{
 "cells": [
  {
   "cell_type": "code",
   "execution_count": 8,
   "metadata": {
    "collapsed": true
   },
   "outputs": [],
   "source": [
    "%matplotlib inline\n",
    "from pylab import rcParams\n",
    "rcParams['figure.figsize'] = 12, 8\n",
    "import matplotlib.pyplot as plt\n",
    "import numpy as np"
   ]
  },
  {
   "cell_type": "code",
   "execution_count": 2,
   "metadata": {
    "collapsed": true
   },
   "outputs": [],
   "source": [
    "h = np.loadtxt(r'C:\\Users\\Ouyang Group\\Documents\\Data\\AFM ND Heights 7-15-16.txt')"
   ]
  },
  {
   "cell_type": "code",
   "execution_count": 3,
   "metadata": {
    "collapsed": false
   },
   "outputs": [
    {
     "data": {
      "text/plain": [
       "array([  21.2,   44.5,   45.8,   15.7,   52.3,   48.5,   72.7,   31.1,\n",
       "         18.2,   41.2,   31.1,   18.2,   41.2,   43.5,   21.7,   35.7,\n",
       "         40.1,   44.3,   34.2,   26.3,   63.8,   48.8,   34.4,   67.7,\n",
       "         18.2,   18.9,    4.2,   51.4,   62. ,   33.1,   38.1,   66.1,\n",
       "         35.6,   31.2,   72.6,   30.2,   15.3,   13.6,   14.6,   17.9,\n",
       "         32.4,   25.9,   19.4,   12.7,   13.9,   11.1,   18.8,   20.1,\n",
       "         24.1,   23.8,   24.5,   48.2,   36.2,   85.5,   62.6,   37.2,\n",
       "         60.6,   44.7,   21.4,   14.7,   33.2,  101. ,   43.1,   49. ,\n",
       "         23.8,   32.9,   34.5,   61. ,   60.9,   48.5,   28.5,   73.3,\n",
       "         56.6,   88.2,   16. ,   47.9,   81.2,   33.6,   24.6,   13.4,\n",
       "         27.3,   19.1,   28.4,   25.2,   50.4,   55.2,   20.7,   53.2,\n",
       "         54. ,   32.6,   21.7,   33.1,   45. ,   68.9,   50.8,   17.1,\n",
       "         60.4,   66. ,   43.9,   68.7,   23.3,   79.4,   43.1,   36.7,\n",
       "         66.2,   45.5,   52.9,   42.3,   35.6,   28.6,   72.8,   55.1,\n",
       "         67.8,   85.5,   45. ,   49.7,   41.6,   11.3,   78.5,   88.3])"
      ]
     },
     "execution_count": 3,
     "metadata": {},
     "output_type": "execute_result"
    }
   ],
   "source": [
    "h"
   ]
  },
  {
   "cell_type": "code",
   "execution_count": 4,
   "metadata": {
    "collapsed": false
   },
   "outputs": [
    {
     "data": {
      "text/plain": [
       "(120L,)"
      ]
     },
     "execution_count": 4,
     "metadata": {},
     "output_type": "execute_result"
    }
   ],
   "source": [
    "h.shape"
   ]
  },
  {
   "cell_type": "code",
   "execution_count": 15,
   "metadata": {
    "collapsed": false
   },
   "outputs": [
    {
     "data": {
      "text/plain": [
       "<matplotlib.text.Text at 0x83f69b0>"
      ]
     },
     "execution_count": 15,
     "metadata": {},
     "output_type": "execute_result"
    },
    {
     "data": {
      "image/png": "[encoded data removed]",
      "text/plain": [
       "<matplotlib.figure.Figure at 0x825ae80>"
      ]
     },
     "metadata": {},
     "output_type": "display_data"
    }
   ],
   "source": [
    "plt.hist(h,8)\n",
    "plt.xlabel(\"height (nm)\",fontsize=18)\n",
    "plt.ylabel(\"counts\",fontsize=18)"
   ]
  },
  {
   "cell_type": "code",
   "execution_count": null,
   "metadata": {
    "collapsed": true
   },
   "outputs": [],
   "source": []
  }
 ],
 "metadata": {
  "kernelspec": {
   "display_name": "Python 2",
   "language": "python",
   "name": "python2"
  },
  "language_info": {
   "codemirror_mode": {
    "name": "ipython",
    "version": 2
   },
   "file_extension": ".py",
   "mimetype": "text/x-python",
   "name": "python",
   "nbconvert_exporter": "python",
   "pygments_lexer": "ipython2",
   "version": "2.7.11"
  }
 },
 "nbformat": 4,
 "nbformat_minor": 0
}
